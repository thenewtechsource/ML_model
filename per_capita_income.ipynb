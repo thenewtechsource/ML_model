{
  "cells": [
    {
      "cell_type": "markdown",
      "metadata": {
        "id": "view-in-github",
        "colab_type": "text"
      },
      "source": [
        "<a href=\"https://colab.research.google.com/github/thenewtechsource/ML_model/blob/main/per_capita_income.ipynb\" target=\"_parent\"><img src=\"https://colab.research.google.com/assets/colab-badge.svg\" alt=\"Open In Colab\"/></a>"
      ]
    },
    {
      "cell_type": "code",
      "execution_count": 1,
      "id": "c36169ac-07f1-40b4-b609-2ab2426cb85a",
      "metadata": {
        "id": "c36169ac-07f1-40b4-b609-2ab2426cb85a"
      },
      "outputs": [],
      "source": [
        "import pandas as pd\n",
        "import warnings\n",
        "warnings.filterwarnings(\"ignore\")"
      ]
    },
    {
      "cell_type": "code",
      "execution_count": 2,
      "id": "b7d21b17-c26c-4a98-bf9f-3ac126f0dfe3",
      "metadata": {
        "colab": {
          "base_uri": "https://localhost:8080/"
        },
        "id": "b7d21b17-c26c-4a98-bf9f-3ac126f0dfe3",
        "outputId": "0ecde43f-c74b-4b51-aa7d-117f102558b1"
      },
      "outputs": [
        {
          "output_type": "stream",
          "name": "stdout",
          "text": [
            "    year  per capita income (US$)\n",
            "0   1970              3399.299037\n",
            "1   1971              3768.297935\n",
            "2   1972              4251.175484\n",
            "3   1973              4804.463248\n",
            "4   1974              5576.514583\n",
            "5   1975              5998.144346\n",
            "6   1976              7062.131392\n",
            "7   1977              7100.126170\n",
            "8   1978              7247.967035\n",
            "9   1979              7602.912681\n",
            "10  1980              8355.968120\n",
            "11  1981              9434.390652\n",
            "12  1982              9619.438377\n",
            "13  1983             10416.536590\n",
            "14  1984             10790.328720\n",
            "15  1985             11018.955850\n",
            "16  1986             11482.891530\n",
            "17  1987             12974.806620\n",
            "18  1988             15080.283450\n",
            "19  1989             16426.725480\n",
            "20  1990             16838.673200\n",
            "21  1991             17266.097690\n",
            "22  1992             16412.083090\n",
            "23  1993             15875.586730\n",
            "24  1994             15755.820270\n",
            "25  1995             16369.317250\n",
            "26  1996             16699.826680\n",
            "27  1997             17310.757750\n",
            "28  1998             16622.671870\n",
            "29  1999             17581.024140\n",
            "30  2000             18987.382410\n",
            "31  2001             18601.397240\n",
            "32  2002             19232.175560\n",
            "33  2003             22739.426280\n",
            "34  2004             25719.147150\n",
            "35  2005             29198.055690\n",
            "36  2006             32738.262900\n",
            "37  2007             36144.481220\n",
            "38  2008             37446.486090\n",
            "39  2009             32755.176820\n",
            "40  2010             38420.522890\n",
            "41  2011             42334.711210\n",
            "42  2012             42665.255970\n",
            "43  2013             42676.468370\n",
            "44  2014             41039.893600\n",
            "45  2015             35175.188980\n",
            "46  2016             34229.193630\n"
          ]
        }
      ],
      "source": [
        "df= pd.read_csv(\"canada_per_capita_income.csv\")\n",
        "print(df.to_string())"
      ]
    },
    {
      "cell_type": "code",
      "execution_count": 3,
      "id": "714e0f67-faa9-42c4-a9a8-6dcc9d5d20b4",
      "metadata": {
        "id": "714e0f67-faa9-42c4-a9a8-6dcc9d5d20b4"
      },
      "outputs": [],
      "source": [
        "from sklearn.linear_model import LinearRegression\n",
        "X= df[['year']]\n",
        "Y= df[['per capita income (US$)']]"
      ]
    },
    {
      "cell_type": "code",
      "execution_count": 4,
      "id": "4db0b52e-0927-400f-af86-8a84d3998e19",
      "metadata": {
        "colab": {
          "base_uri": "https://localhost:8080/",
          "height": 75
        },
        "id": "4db0b52e-0927-400f-af86-8a84d3998e19",
        "outputId": "9b349b09-8400-49f4-bb05-5f5c4f72f9af"
      },
      "outputs": [
        {
          "output_type": "execute_result",
          "data": {
            "text/plain": [
              "LinearRegression()"
            ],
            "text/html": [
              "<style>#sk-container-id-1 {color: black;background-color: white;}#sk-container-id-1 pre{padding: 0;}#sk-container-id-1 div.sk-toggleable {background-color: white;}#sk-container-id-1 label.sk-toggleable__label {cursor: pointer;display: block;width: 100%;margin-bottom: 0;padding: 0.3em;box-sizing: border-box;text-align: center;}#sk-container-id-1 label.sk-toggleable__label-arrow:before {content: \"▸\";float: left;margin-right: 0.25em;color: #696969;}#sk-container-id-1 label.sk-toggleable__label-arrow:hover:before {color: black;}#sk-container-id-1 div.sk-estimator:hover label.sk-toggleable__label-arrow:before {color: black;}#sk-container-id-1 div.sk-toggleable__content {max-height: 0;max-width: 0;overflow: hidden;text-align: left;background-color: #f0f8ff;}#sk-container-id-1 div.sk-toggleable__content pre {margin: 0.2em;color: black;border-radius: 0.25em;background-color: #f0f8ff;}#sk-container-id-1 input.sk-toggleable__control:checked~div.sk-toggleable__content {max-height: 200px;max-width: 100%;overflow: auto;}#sk-container-id-1 input.sk-toggleable__control:checked~label.sk-toggleable__label-arrow:before {content: \"▾\";}#sk-container-id-1 div.sk-estimator input.sk-toggleable__control:checked~label.sk-toggleable__label {background-color: #d4ebff;}#sk-container-id-1 div.sk-label input.sk-toggleable__control:checked~label.sk-toggleable__label {background-color: #d4ebff;}#sk-container-id-1 input.sk-hidden--visually {border: 0;clip: rect(1px 1px 1px 1px);clip: rect(1px, 1px, 1px, 1px);height: 1px;margin: -1px;overflow: hidden;padding: 0;position: absolute;width: 1px;}#sk-container-id-1 div.sk-estimator {font-family: monospace;background-color: #f0f8ff;border: 1px dotted black;border-radius: 0.25em;box-sizing: border-box;margin-bottom: 0.5em;}#sk-container-id-1 div.sk-estimator:hover {background-color: #d4ebff;}#sk-container-id-1 div.sk-parallel-item::after {content: \"\";width: 100%;border-bottom: 1px solid gray;flex-grow: 1;}#sk-container-id-1 div.sk-label:hover label.sk-toggleable__label {background-color: #d4ebff;}#sk-container-id-1 div.sk-serial::before {content: \"\";position: absolute;border-left: 1px solid gray;box-sizing: border-box;top: 0;bottom: 0;left: 50%;z-index: 0;}#sk-container-id-1 div.sk-serial {display: flex;flex-direction: column;align-items: center;background-color: white;padding-right: 0.2em;padding-left: 0.2em;position: relative;}#sk-container-id-1 div.sk-item {position: relative;z-index: 1;}#sk-container-id-1 div.sk-parallel {display: flex;align-items: stretch;justify-content: center;background-color: white;position: relative;}#sk-container-id-1 div.sk-item::before, #sk-container-id-1 div.sk-parallel-item::before {content: \"\";position: absolute;border-left: 1px solid gray;box-sizing: border-box;top: 0;bottom: 0;left: 50%;z-index: -1;}#sk-container-id-1 div.sk-parallel-item {display: flex;flex-direction: column;z-index: 1;position: relative;background-color: white;}#sk-container-id-1 div.sk-parallel-item:first-child::after {align-self: flex-end;width: 50%;}#sk-container-id-1 div.sk-parallel-item:last-child::after {align-self: flex-start;width: 50%;}#sk-container-id-1 div.sk-parallel-item:only-child::after {width: 0;}#sk-container-id-1 div.sk-dashed-wrapped {border: 1px dashed gray;margin: 0 0.4em 0.5em 0.4em;box-sizing: border-box;padding-bottom: 0.4em;background-color: white;}#sk-container-id-1 div.sk-label label {font-family: monospace;font-weight: bold;display: inline-block;line-height: 1.2em;}#sk-container-id-1 div.sk-label-container {text-align: center;}#sk-container-id-1 div.sk-container {/* jupyter's `normalize.less` sets `[hidden] { display: none; }` but bootstrap.min.css set `[hidden] { display: none !important; }` so we also need the `!important` here to be able to override the default hidden behavior on the sphinx rendered scikit-learn.org. See: https://github.com/scikit-learn/scikit-learn/issues/21755 */display: inline-block !important;position: relative;}#sk-container-id-1 div.sk-text-repr-fallback {display: none;}</style><div id=\"sk-container-id-1\" class=\"sk-top-container\"><div class=\"sk-text-repr-fallback\"><pre>LinearRegression()</pre><b>In a Jupyter environment, please rerun this cell to show the HTML representation or trust the notebook. <br />On GitHub, the HTML representation is unable to render, please try loading this page with nbviewer.org.</b></div><div class=\"sk-container\" hidden><div class=\"sk-item\"><div class=\"sk-estimator sk-toggleable\"><input class=\"sk-toggleable__control sk-hidden--visually\" id=\"sk-estimator-id-1\" type=\"checkbox\" checked><label for=\"sk-estimator-id-1\" class=\"sk-toggleable__label sk-toggleable__label-arrow\">LinearRegression</label><div class=\"sk-toggleable__content\"><pre>LinearRegression()</pre></div></div></div></div></div>"
            ]
          },
          "metadata": {},
          "execution_count": 4
        }
      ],
      "source": [
        "from sklearn.model_selection import train_test_split\n",
        "X_train,X_test,Y_train,Y_test= train_test_split(X,Y,test_size=0.2)\n",
        "model= LinearRegression()\n",
        "model.fit(X_train,Y_train)"
      ]
    },
    {
      "cell_type": "code",
      "execution_count": 5,
      "id": "2878062f-3d2d-44cd-995d-9a69cf58c985",
      "metadata": {
        "colab": {
          "base_uri": "https://localhost:8080/"
        },
        "id": "2878062f-3d2d-44cd-995d-9a69cf58c985",
        "outputId": "a3a18c20-574d-4d02-d419-ca880051f600"
      },
      "outputs": [
        {
          "output_type": "stream",
          "name": "stdout",
          "text": [
            "[[41935.00129585]]\n"
          ]
        }
      ],
      "source": [
        "ans= model.predict([[2020]])\n",
        "print(ans)"
      ]
    },
    {
      "cell_type": "code",
      "execution_count": 6,
      "id": "2a76cbe1-050b-4a9e-8f10-046d3c1ceac5",
      "metadata": {
        "colab": {
          "base_uri": "https://localhost:8080/"
        },
        "id": "2a76cbe1-050b-4a9e-8f10-046d3c1ceac5",
        "outputId": "dd81b7c6-7871-454e-83f0-b668375afa8e"
      },
      "outputs": [
        {
          "output_type": "execute_result",
          "data": {
            "text/plain": [
              "0.8900958285809932"
            ]
          },
          "metadata": {},
          "execution_count": 6
        }
      ],
      "source": [
        "model.score(X,Y)"
      ]
    },
    {
      "cell_type": "code",
      "execution_count": null,
      "id": "830a40bc-91be-459b-a798-cc51cd3c4a05",
      "metadata": {
        "id": "830a40bc-91be-459b-a798-cc51cd3c4a05",
        "outputId": "450bf8a9-c652-41ee-9a42-18cccf1f6b88"
      },
      "outputs": [
        {
          "name": "stdin",
          "output_type": "stream",
          "text": [
            "Enter the no:  2\n",
            "Enter year:  2003\n"
          ]
        },
        {
          "name": "stdout",
          "output_type": "stream",
          "text": [
            "[[27204.78781563]]\n"
          ]
        },
        {
          "name": "stdin",
          "output_type": "stream",
          "text": [
            "Enter year:  1978\n"
          ]
        },
        {
          "name": "stdout",
          "output_type": "stream",
          "text": [
            "[[6493.16093506]]\n"
          ]
        }
      ],
      "source": [
        "n= int(input(\"Enter the no: \"))\n",
        "for i in range(1,n+1):\n",
        "    year= int(input('Enter year: '))\n",
        "    ans= model.predict([[year]])\n",
        "    print(ans)"
      ]
    },
    {
      "cell_type": "code",
      "execution_count": 7,
      "id": "d69790cd-c311-4a18-8e29-5488239fe91a",
      "metadata": {
        "colab": {
          "base_uri": "https://localhost:8080/"
        },
        "id": "d69790cd-c311-4a18-8e29-5488239fe91a",
        "outputId": "4cb4c354-2994-43cd-dcb4-a7ba256026d0"
      },
      "outputs": [
        {
          "output_type": "execute_result",
          "data": {
            "text/plain": [
              "0.8900958285809932"
            ]
          },
          "metadata": {},
          "execution_count": 7
        }
      ],
      "source": [
        "model.score(X,Y)"
      ]
    },
    {
      "cell_type": "code",
      "execution_count": 8,
      "id": "8c3b5873-2120-41e8-adbd-a21277afc8ec",
      "metadata": {
        "id": "8c3b5873-2120-41e8-adbd-a21277afc8ec"
      },
      "outputs": [],
      "source": [
        "from sklearn.tree import DecisionTreeClassifier\n",
        "X= df[['year']]\n",
        "Y= df[['per capita income (US$)']]"
      ]
    },
    {
      "cell_type": "code",
      "execution_count": null,
      "id": "be37e2c5-b0cd-4337-9aed-0861ec09f43f",
      "metadata": {
        "id": "be37e2c5-b0cd-4337-9aed-0861ec09f43f"
      },
      "outputs": [],
      "source": []
    }
  ],
  "metadata": {
    "kernelspec": {
      "display_name": "Python 3 (ipykernel)",
      "language": "python",
      "name": "python3"
    },
    "language_info": {
      "codemirror_mode": {
        "name": "ipython",
        "version": 3
      },
      "file_extension": ".py",
      "mimetype": "text/x-python",
      "name": "python",
      "nbconvert_exporter": "python",
      "pygments_lexer": "ipython3",
      "version": "3.12.0"
    },
    "colab": {
      "provenance": [],
      "include_colab_link": true
    }
  },
  "nbformat": 4,
  "nbformat_minor": 5
}